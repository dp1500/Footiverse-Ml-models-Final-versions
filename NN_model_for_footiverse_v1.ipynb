{
  "nbformat": 4,
  "nbformat_minor": 0,
  "metadata": {
    "colab": {
      "provenance": [],
      "authorship_tag": "ABX9TyPGVZM4XM+SIXCqBD5/Woo7",
      "include_colab_link": true
    },
    "kernelspec": {
      "name": "python3",
      "display_name": "Python 3"
    },
    "language_info": {
      "name": "python"
    }
  },
  "cells": [
    {
      "cell_type": "markdown",
      "metadata": {
        "id": "view-in-github",
        "colab_type": "text"
      },
      "source": [
        "<a href=\"https://colab.research.google.com/github/dp1500/Footiverse-Ml-models-Final-versions/blob/main/NN_model_for_footiverse_v1.ipynb\" target=\"_parent\"><img src=\"https://colab.research.google.com/assets/colab-badge.svg\" alt=\"Open In Colab\"/></a>"
      ]
    },
    {
      "cell_type": "code",
      "source": [
        "import numpy as np\n",
        "import pandas as pd"
      ],
      "metadata": {
        "id": "9SoOkGVKzq2Y"
      },
      "execution_count": null,
      "outputs": []
    },
    {
      "cell_type": "code",
      "source": [
        "df = pd.read_csv(\"/content/final_data_for_model_1.csv\")"
      ],
      "metadata": {
        "id": "9i2A0K-JzydX"
      },
      "execution_count": null,
      "outputs": []
    },
    {
      "cell_type": "code",
      "source": [
        "df.head()"
      ],
      "metadata": {
        "colab": {
          "base_uri": "https://localhost:8080/",
          "height": 305
        },
        "id": "IFWJK39yz7Yf",
        "outputId": "84982210-a848-4ddd-d483-1dba3d34e657"
      },
      "execution_count": null,
      "outputs": [
        {
          "output_type": "execute_result",
          "data": {
            "text/plain": [
              "   Unnamed: 0  Unnamed: 0.1 formation  gk rating  defence rating  \\\n",
              "0           0             0     3-4-3        165             601   \n",
              "1           1             1     4-4-2        277             435   \n",
              "2           2             2     3-4-3        312             300   \n",
              "3           3             3     3-5-2        145             381   \n",
              "4           4             4     3-4-3        226             483   \n",
              "\n",
              "   midfield rating  attack rating  net stamina  net physicallity  \\\n",
              "0              133            370         2237              2258   \n",
              "1              282            278         2224              2210   \n",
              "2              260            340         2232              2267   \n",
              "3              292            215         2217              2322   \n",
              "4              146            152         2346              2317   \n",
              "\n",
              "  away formation  away gk rating  away defence rating  away midfield rating  \\\n",
              "0        4-4-1-1             285                  588                   435   \n",
              "1          3-5-2             228                  491                   285   \n",
              "2        4-4-1-1             214                  485                   237   \n",
              "3        4-2-3-1             315                  602                   206   \n",
              "4          3-4-3             278                  491                   357   \n",
              "\n",
              "   away attack rating  away net stamina  away net physicallity  home goals  \\\n",
              "0                 370              2314                   2342           4   \n",
              "1                 232              2277                   2216           0   \n",
              "2                 387              2255                   2233           2   \n",
              "3                 150              2095                   2258           0   \n",
              "4                 211              2011                   2188           1   \n",
              "\n",
              "   away goals home_result_list  \n",
              "0           3                W  \n",
              "1           2                L  \n",
              "2           3                L  \n",
              "3           3                L  \n",
              "4           0                W  "
            ],
            "text/html": [
              "\n",
              "  <div id=\"df-3984e0d1-aca5-4b59-9963-b12f50797904\">\n",
              "    <div class=\"colab-df-container\">\n",
              "      <div>\n",
              "<style scoped>\n",
              "    .dataframe tbody tr th:only-of-type {\n",
              "        vertical-align: middle;\n",
              "    }\n",
              "\n",
              "    .dataframe tbody tr th {\n",
              "        vertical-align: top;\n",
              "    }\n",
              "\n",
              "    .dataframe thead th {\n",
              "        text-align: right;\n",
              "    }\n",
              "</style>\n",
              "<table border=\"1\" class=\"dataframe\">\n",
              "  <thead>\n",
              "    <tr style=\"text-align: right;\">\n",
              "      <th></th>\n",
              "      <th>Unnamed: 0</th>\n",
              "      <th>Unnamed: 0.1</th>\n",
              "      <th>formation</th>\n",
              "      <th>gk rating</th>\n",
              "      <th>defence rating</th>\n",
              "      <th>midfield rating</th>\n",
              "      <th>attack rating</th>\n",
              "      <th>net stamina</th>\n",
              "      <th>net physicallity</th>\n",
              "      <th>away formation</th>\n",
              "      <th>away gk rating</th>\n",
              "      <th>away defence rating</th>\n",
              "      <th>away midfield rating</th>\n",
              "      <th>away attack rating</th>\n",
              "      <th>away net stamina</th>\n",
              "      <th>away net physicallity</th>\n",
              "      <th>home goals</th>\n",
              "      <th>away goals</th>\n",
              "      <th>home_result_list</th>\n",
              "    </tr>\n",
              "  </thead>\n",
              "  <tbody>\n",
              "    <tr>\n",
              "      <th>0</th>\n",
              "      <td>0</td>\n",
              "      <td>0</td>\n",
              "      <td>3-4-3</td>\n",
              "      <td>165</td>\n",
              "      <td>601</td>\n",
              "      <td>133</td>\n",
              "      <td>370</td>\n",
              "      <td>2237</td>\n",
              "      <td>2258</td>\n",
              "      <td>4-4-1-1</td>\n",
              "      <td>285</td>\n",
              "      <td>588</td>\n",
              "      <td>435</td>\n",
              "      <td>370</td>\n",
              "      <td>2314</td>\n",
              "      <td>2342</td>\n",
              "      <td>4</td>\n",
              "      <td>3</td>\n",
              "      <td>W</td>\n",
              "    </tr>\n",
              "    <tr>\n",
              "      <th>1</th>\n",
              "      <td>1</td>\n",
              "      <td>1</td>\n",
              "      <td>4-4-2</td>\n",
              "      <td>277</td>\n",
              "      <td>435</td>\n",
              "      <td>282</td>\n",
              "      <td>278</td>\n",
              "      <td>2224</td>\n",
              "      <td>2210</td>\n",
              "      <td>3-5-2</td>\n",
              "      <td>228</td>\n",
              "      <td>491</td>\n",
              "      <td>285</td>\n",
              "      <td>232</td>\n",
              "      <td>2277</td>\n",
              "      <td>2216</td>\n",
              "      <td>0</td>\n",
              "      <td>2</td>\n",
              "      <td>L</td>\n",
              "    </tr>\n",
              "    <tr>\n",
              "      <th>2</th>\n",
              "      <td>2</td>\n",
              "      <td>2</td>\n",
              "      <td>3-4-3</td>\n",
              "      <td>312</td>\n",
              "      <td>300</td>\n",
              "      <td>260</td>\n",
              "      <td>340</td>\n",
              "      <td>2232</td>\n",
              "      <td>2267</td>\n",
              "      <td>4-4-1-1</td>\n",
              "      <td>214</td>\n",
              "      <td>485</td>\n",
              "      <td>237</td>\n",
              "      <td>387</td>\n",
              "      <td>2255</td>\n",
              "      <td>2233</td>\n",
              "      <td>2</td>\n",
              "      <td>3</td>\n",
              "      <td>L</td>\n",
              "    </tr>\n",
              "    <tr>\n",
              "      <th>3</th>\n",
              "      <td>3</td>\n",
              "      <td>3</td>\n",
              "      <td>3-5-2</td>\n",
              "      <td>145</td>\n",
              "      <td>381</td>\n",
              "      <td>292</td>\n",
              "      <td>215</td>\n",
              "      <td>2217</td>\n",
              "      <td>2322</td>\n",
              "      <td>4-2-3-1</td>\n",
              "      <td>315</td>\n",
              "      <td>602</td>\n",
              "      <td>206</td>\n",
              "      <td>150</td>\n",
              "      <td>2095</td>\n",
              "      <td>2258</td>\n",
              "      <td>0</td>\n",
              "      <td>3</td>\n",
              "      <td>L</td>\n",
              "    </tr>\n",
              "    <tr>\n",
              "      <th>4</th>\n",
              "      <td>4</td>\n",
              "      <td>4</td>\n",
              "      <td>3-4-3</td>\n",
              "      <td>226</td>\n",
              "      <td>483</td>\n",
              "      <td>146</td>\n",
              "      <td>152</td>\n",
              "      <td>2346</td>\n",
              "      <td>2317</td>\n",
              "      <td>3-4-3</td>\n",
              "      <td>278</td>\n",
              "      <td>491</td>\n",
              "      <td>357</td>\n",
              "      <td>211</td>\n",
              "      <td>2011</td>\n",
              "      <td>2188</td>\n",
              "      <td>1</td>\n",
              "      <td>0</td>\n",
              "      <td>W</td>\n",
              "    </tr>\n",
              "  </tbody>\n",
              "</table>\n",
              "</div>\n",
              "      <button class=\"colab-df-convert\" onclick=\"convertToInteractive('df-3984e0d1-aca5-4b59-9963-b12f50797904')\"\n",
              "              title=\"Convert this dataframe to an interactive table.\"\n",
              "              style=\"display:none;\">\n",
              "        \n",
              "  <svg xmlns=\"http://www.w3.org/2000/svg\" height=\"24px\"viewBox=\"0 0 24 24\"\n",
              "       width=\"24px\">\n",
              "    <path d=\"M0 0h24v24H0V0z\" fill=\"none\"/>\n",
              "    <path d=\"M18.56 5.44l.94 2.06.94-2.06 2.06-.94-2.06-.94-.94-2.06-.94 2.06-2.06.94zm-11 1L8.5 8.5l.94-2.06 2.06-.94-2.06-.94L8.5 2.5l-.94 2.06-2.06.94zm10 10l.94 2.06.94-2.06 2.06-.94-2.06-.94-.94-2.06-.94 2.06-2.06.94z\"/><path d=\"M17.41 7.96l-1.37-1.37c-.4-.4-.92-.59-1.43-.59-.52 0-1.04.2-1.43.59L10.3 9.45l-7.72 7.72c-.78.78-.78 2.05 0 2.83L4 21.41c.39.39.9.59 1.41.59.51 0 1.02-.2 1.41-.59l7.78-7.78 2.81-2.81c.8-.78.8-2.07 0-2.86zM5.41 20L4 18.59l7.72-7.72 1.47 1.35L5.41 20z\"/>\n",
              "  </svg>\n",
              "      </button>\n",
              "      \n",
              "  <style>\n",
              "    .colab-df-container {\n",
              "      display:flex;\n",
              "      flex-wrap:wrap;\n",
              "      gap: 12px;\n",
              "    }\n",
              "\n",
              "    .colab-df-convert {\n",
              "      background-color: #E8F0FE;\n",
              "      border: none;\n",
              "      border-radius: 50%;\n",
              "      cursor: pointer;\n",
              "      display: none;\n",
              "      fill: #1967D2;\n",
              "      height: 32px;\n",
              "      padding: 0 0 0 0;\n",
              "      width: 32px;\n",
              "    }\n",
              "\n",
              "    .colab-df-convert:hover {\n",
              "      background-color: #E2EBFA;\n",
              "      box-shadow: 0px 1px 2px rgba(60, 64, 67, 0.3), 0px 1px 3px 1px rgba(60, 64, 67, 0.15);\n",
              "      fill: #174EA6;\n",
              "    }\n",
              "\n",
              "    [theme=dark] .colab-df-convert {\n",
              "      background-color: #3B4455;\n",
              "      fill: #D2E3FC;\n",
              "    }\n",
              "\n",
              "    [theme=dark] .colab-df-convert:hover {\n",
              "      background-color: #434B5C;\n",
              "      box-shadow: 0px 1px 3px 1px rgba(0, 0, 0, 0.15);\n",
              "      filter: drop-shadow(0px 1px 2px rgba(0, 0, 0, 0.3));\n",
              "      fill: #FFFFFF;\n",
              "    }\n",
              "  </style>\n",
              "\n",
              "      <script>\n",
              "        const buttonEl =\n",
              "          document.querySelector('#df-3984e0d1-aca5-4b59-9963-b12f50797904 button.colab-df-convert');\n",
              "        buttonEl.style.display =\n",
              "          google.colab.kernel.accessAllowed ? 'block' : 'none';\n",
              "\n",
              "        async function convertToInteractive(key) {\n",
              "          const element = document.querySelector('#df-3984e0d1-aca5-4b59-9963-b12f50797904');\n",
              "          const dataTable =\n",
              "            await google.colab.kernel.invokeFunction('convertToInteractive',\n",
              "                                                     [key], {});\n",
              "          if (!dataTable) return;\n",
              "\n",
              "          const docLinkHtml = 'Like what you see? Visit the ' +\n",
              "            '<a target=\"_blank\" href=https://colab.research.google.com/notebooks/data_table.ipynb>data table notebook</a>'\n",
              "            + ' to learn more about interactive tables.';\n",
              "          element.innerHTML = '';\n",
              "          dataTable['output_type'] = 'display_data';\n",
              "          await google.colab.output.renderOutput(dataTable, element);\n",
              "          const docLink = document.createElement('div');\n",
              "          docLink.innerHTML = docLinkHtml;\n",
              "          element.appendChild(docLink);\n",
              "        }\n",
              "      </script>\n",
              "    </div>\n",
              "  </div>\n",
              "  "
            ]
          },
          "metadata": {},
          "execution_count": 3
        }
      ]
    },
    {
      "cell_type": "code",
      "source": [
        "df = df.drop(['Unnamed: 0', 'Unnamed: 0.1'], axis=1)"
      ],
      "metadata": {
        "id": "xI4C6m3Fz_Y_"
      },
      "execution_count": null,
      "outputs": []
    },
    {
      "cell_type": "code",
      "source": [
        "len(df['formation'].unique())"
      ],
      "metadata": {
        "colab": {
          "base_uri": "https://localhost:8080/"
        },
        "id": "oAbjOVMT0wku",
        "outputId": "3c05b7e7-ec32-4cb9-9876-1ea993d2fe9a"
      },
      "execution_count": null,
      "outputs": [
        {
          "output_type": "execute_result",
          "data": {
            "text/plain": [
              "27"
            ]
          },
          "metadata": {},
          "execution_count": 5
        }
      ]
    },
    {
      "cell_type": "markdown",
      "source": [
        "# encoding formation column using target encoding"
      ],
      "metadata": {
        "id": "p4xs6aqK66Ep"
      }
    },
    {
      "cell_type": "code",
      "source": [
        "df1 = df.copy()"
      ],
      "metadata": {
        "id": "MKVlDnwb6--w"
      },
      "execution_count": null,
      "outputs": []
    },
    {
      "cell_type": "code",
      "source": [
        "# autos[\"make_encoded\"] = autos.groupby(\"make\")[\"price\"].transform(\"mean\")\n",
        "\n",
        "df1['formation'] = df1.groupby(\"formation\")[\"home goals\"].transform(\"mean\")\n",
        "df1['away formation'] = df1.groupby(\"away formation\")[\"away goals\"].transform(\"mean\")"
      ],
      "metadata": {
        "id": "ynuWsuUC7ObO"
      },
      "execution_count": null,
      "outputs": []
    },
    {
      "cell_type": "code",
      "source": [
        "df1.head()"
      ],
      "metadata": {
        "colab": {
          "base_uri": "https://localhost:8080/",
          "height": 305
        },
        "id": "eTZrW1tA78NT",
        "outputId": "b056f9c7-c733-45c6-b9fb-7fc12ef92362"
      },
      "execution_count": null,
      "outputs": [
        {
          "output_type": "execute_result",
          "data": {
            "text/plain": [
              "   formation  gk rating  defence rating  midfield rating  attack rating  \\\n",
              "0   1.567901        165             601              133            370   \n",
              "1   1.231047        277             435              282            278   \n",
              "2   1.567901        312             300              260            340   \n",
              "3   1.107527        145             381              292            215   \n",
              "4   1.567901        226             483              146            152   \n",
              "\n",
              "   net stamina  net physicallity  away formation  away gk rating  \\\n",
              "0         2237              2258        0.942529             285   \n",
              "1         2224              2210        0.975207             228   \n",
              "2         2232              2267        0.942529             214   \n",
              "3         2217              2322        1.295652             315   \n",
              "4         2346              2317        1.254630             278   \n",
              "\n",
              "   away defence rating  away midfield rating  away attack rating  \\\n",
              "0                  588                   435                 370   \n",
              "1                  491                   285                 232   \n",
              "2                  485                   237                 387   \n",
              "3                  602                   206                 150   \n",
              "4                  491                   357                 211   \n",
              "\n",
              "   away net stamina  away net physicallity  home goals  away goals  \\\n",
              "0              2314                   2342           4           3   \n",
              "1              2277                   2216           0           2   \n",
              "2              2255                   2233           2           3   \n",
              "3              2095                   2258           0           3   \n",
              "4              2011                   2188           1           0   \n",
              "\n",
              "  home_result_list  \n",
              "0                W  \n",
              "1                L  \n",
              "2                L  \n",
              "3                L  \n",
              "4                W  "
            ],
            "text/html": [
              "\n",
              "  <div id=\"df-317f85c3-0eff-40f3-a9e7-f753bf15b469\">\n",
              "    <div class=\"colab-df-container\">\n",
              "      <div>\n",
              "<style scoped>\n",
              "    .dataframe tbody tr th:only-of-type {\n",
              "        vertical-align: middle;\n",
              "    }\n",
              "\n",
              "    .dataframe tbody tr th {\n",
              "        vertical-align: top;\n",
              "    }\n",
              "\n",
              "    .dataframe thead th {\n",
              "        text-align: right;\n",
              "    }\n",
              "</style>\n",
              "<table border=\"1\" class=\"dataframe\">\n",
              "  <thead>\n",
              "    <tr style=\"text-align: right;\">\n",
              "      <th></th>\n",
              "      <th>formation</th>\n",
              "      <th>gk rating</th>\n",
              "      <th>defence rating</th>\n",
              "      <th>midfield rating</th>\n",
              "      <th>attack rating</th>\n",
              "      <th>net stamina</th>\n",
              "      <th>net physicallity</th>\n",
              "      <th>away formation</th>\n",
              "      <th>away gk rating</th>\n",
              "      <th>away defence rating</th>\n",
              "      <th>away midfield rating</th>\n",
              "      <th>away attack rating</th>\n",
              "      <th>away net stamina</th>\n",
              "      <th>away net physicallity</th>\n",
              "      <th>home goals</th>\n",
              "      <th>away goals</th>\n",
              "      <th>home_result_list</th>\n",
              "    </tr>\n",
              "  </thead>\n",
              "  <tbody>\n",
              "    <tr>\n",
              "      <th>0</th>\n",
              "      <td>1.567901</td>\n",
              "      <td>165</td>\n",
              "      <td>601</td>\n",
              "      <td>133</td>\n",
              "      <td>370</td>\n",
              "      <td>2237</td>\n",
              "      <td>2258</td>\n",
              "      <td>0.942529</td>\n",
              "      <td>285</td>\n",
              "      <td>588</td>\n",
              "      <td>435</td>\n",
              "      <td>370</td>\n",
              "      <td>2314</td>\n",
              "      <td>2342</td>\n",
              "      <td>4</td>\n",
              "      <td>3</td>\n",
              "      <td>W</td>\n",
              "    </tr>\n",
              "    <tr>\n",
              "      <th>1</th>\n",
              "      <td>1.231047</td>\n",
              "      <td>277</td>\n",
              "      <td>435</td>\n",
              "      <td>282</td>\n",
              "      <td>278</td>\n",
              "      <td>2224</td>\n",
              "      <td>2210</td>\n",
              "      <td>0.975207</td>\n",
              "      <td>228</td>\n",
              "      <td>491</td>\n",
              "      <td>285</td>\n",
              "      <td>232</td>\n",
              "      <td>2277</td>\n",
              "      <td>2216</td>\n",
              "      <td>0</td>\n",
              "      <td>2</td>\n",
              "      <td>L</td>\n",
              "    </tr>\n",
              "    <tr>\n",
              "      <th>2</th>\n",
              "      <td>1.567901</td>\n",
              "      <td>312</td>\n",
              "      <td>300</td>\n",
              "      <td>260</td>\n",
              "      <td>340</td>\n",
              "      <td>2232</td>\n",
              "      <td>2267</td>\n",
              "      <td>0.942529</td>\n",
              "      <td>214</td>\n",
              "      <td>485</td>\n",
              "      <td>237</td>\n",
              "      <td>387</td>\n",
              "      <td>2255</td>\n",
              "      <td>2233</td>\n",
              "      <td>2</td>\n",
              "      <td>3</td>\n",
              "      <td>L</td>\n",
              "    </tr>\n",
              "    <tr>\n",
              "      <th>3</th>\n",
              "      <td>1.107527</td>\n",
              "      <td>145</td>\n",
              "      <td>381</td>\n",
              "      <td>292</td>\n",
              "      <td>215</td>\n",
              "      <td>2217</td>\n",
              "      <td>2322</td>\n",
              "      <td>1.295652</td>\n",
              "      <td>315</td>\n",
              "      <td>602</td>\n",
              "      <td>206</td>\n",
              "      <td>150</td>\n",
              "      <td>2095</td>\n",
              "      <td>2258</td>\n",
              "      <td>0</td>\n",
              "      <td>3</td>\n",
              "      <td>L</td>\n",
              "    </tr>\n",
              "    <tr>\n",
              "      <th>4</th>\n",
              "      <td>1.567901</td>\n",
              "      <td>226</td>\n",
              "      <td>483</td>\n",
              "      <td>146</td>\n",
              "      <td>152</td>\n",
              "      <td>2346</td>\n",
              "      <td>2317</td>\n",
              "      <td>1.254630</td>\n",
              "      <td>278</td>\n",
              "      <td>491</td>\n",
              "      <td>357</td>\n",
              "      <td>211</td>\n",
              "      <td>2011</td>\n",
              "      <td>2188</td>\n",
              "      <td>1</td>\n",
              "      <td>0</td>\n",
              "      <td>W</td>\n",
              "    </tr>\n",
              "  </tbody>\n",
              "</table>\n",
              "</div>\n",
              "      <button class=\"colab-df-convert\" onclick=\"convertToInteractive('df-317f85c3-0eff-40f3-a9e7-f753bf15b469')\"\n",
              "              title=\"Convert this dataframe to an interactive table.\"\n",
              "              style=\"display:none;\">\n",
              "        \n",
              "  <svg xmlns=\"http://www.w3.org/2000/svg\" height=\"24px\"viewBox=\"0 0 24 24\"\n",
              "       width=\"24px\">\n",
              "    <path d=\"M0 0h24v24H0V0z\" fill=\"none\"/>\n",
              "    <path d=\"M18.56 5.44l.94 2.06.94-2.06 2.06-.94-2.06-.94-.94-2.06-.94 2.06-2.06.94zm-11 1L8.5 8.5l.94-2.06 2.06-.94-2.06-.94L8.5 2.5l-.94 2.06-2.06.94zm10 10l.94 2.06.94-2.06 2.06-.94-2.06-.94-.94-2.06-.94 2.06-2.06.94z\"/><path d=\"M17.41 7.96l-1.37-1.37c-.4-.4-.92-.59-1.43-.59-.52 0-1.04.2-1.43.59L10.3 9.45l-7.72 7.72c-.78.78-.78 2.05 0 2.83L4 21.41c.39.39.9.59 1.41.59.51 0 1.02-.2 1.41-.59l7.78-7.78 2.81-2.81c.8-.78.8-2.07 0-2.86zM5.41 20L4 18.59l7.72-7.72 1.47 1.35L5.41 20z\"/>\n",
              "  </svg>\n",
              "      </button>\n",
              "      \n",
              "  <style>\n",
              "    .colab-df-container {\n",
              "      display:flex;\n",
              "      flex-wrap:wrap;\n",
              "      gap: 12px;\n",
              "    }\n",
              "\n",
              "    .colab-df-convert {\n",
              "      background-color: #E8F0FE;\n",
              "      border: none;\n",
              "      border-radius: 50%;\n",
              "      cursor: pointer;\n",
              "      display: none;\n",
              "      fill: #1967D2;\n",
              "      height: 32px;\n",
              "      padding: 0 0 0 0;\n",
              "      width: 32px;\n",
              "    }\n",
              "\n",
              "    .colab-df-convert:hover {\n",
              "      background-color: #E2EBFA;\n",
              "      box-shadow: 0px 1px 2px rgba(60, 64, 67, 0.3), 0px 1px 3px 1px rgba(60, 64, 67, 0.15);\n",
              "      fill: #174EA6;\n",
              "    }\n",
              "\n",
              "    [theme=dark] .colab-df-convert {\n",
              "      background-color: #3B4455;\n",
              "      fill: #D2E3FC;\n",
              "    }\n",
              "\n",
              "    [theme=dark] .colab-df-convert:hover {\n",
              "      background-color: #434B5C;\n",
              "      box-shadow: 0px 1px 3px 1px rgba(0, 0, 0, 0.15);\n",
              "      filter: drop-shadow(0px 1px 2px rgba(0, 0, 0, 0.3));\n",
              "      fill: #FFFFFF;\n",
              "    }\n",
              "  </style>\n",
              "\n",
              "      <script>\n",
              "        const buttonEl =\n",
              "          document.querySelector('#df-317f85c3-0eff-40f3-a9e7-f753bf15b469 button.colab-df-convert');\n",
              "        buttonEl.style.display =\n",
              "          google.colab.kernel.accessAllowed ? 'block' : 'none';\n",
              "\n",
              "        async function convertToInteractive(key) {\n",
              "          const element = document.querySelector('#df-317f85c3-0eff-40f3-a9e7-f753bf15b469');\n",
              "          const dataTable =\n",
              "            await google.colab.kernel.invokeFunction('convertToInteractive',\n",
              "                                                     [key], {});\n",
              "          if (!dataTable) return;\n",
              "\n",
              "          const docLinkHtml = 'Like what you see? Visit the ' +\n",
              "            '<a target=\"_blank\" href=https://colab.research.google.com/notebooks/data_table.ipynb>data table notebook</a>'\n",
              "            + ' to learn more about interactive tables.';\n",
              "          element.innerHTML = '';\n",
              "          dataTable['output_type'] = 'display_data';\n",
              "          await google.colab.output.renderOutput(dataTable, element);\n",
              "          const docLink = document.createElement('div');\n",
              "          docLink.innerHTML = docLinkHtml;\n",
              "          element.appendChild(docLink);\n",
              "        }\n",
              "      </script>\n",
              "    </div>\n",
              "  </div>\n",
              "  "
            ]
          },
          "metadata": {},
          "execution_count": 8
        }
      ]
    },
    {
      "cell_type": "code",
      "source": [
        "y_home_goals = df1['home goals'].to_numpy()\n",
        "\n",
        "y_away_goals = df1['away goals'].to_numpy()\n",
        "\n",
        "x_tree_based = df1.drop(['home goals', 'away goals', 'home_result_list'], axis=1).to_numpy()\n"
      ],
      "metadata": {
        "id": "JwLRkcR3TK-L"
      },
      "execution_count": null,
      "outputs": []
    },
    {
      "cell_type": "code",
      "source": [
        "print(y_home_goals,y_away_goals)"
      ],
      "metadata": {
        "colab": {
          "base_uri": "https://localhost:8080/"
        },
        "id": "wlrAVlw6Tt17",
        "outputId": "5123df83-249b-430c-b2d7-410e553f312d"
      },
      "execution_count": null,
      "outputs": [
        {
          "output_type": "stream",
          "name": "stdout",
          "text": [
            "[4 0 2 ... 1 1 0] [3 2 3 ... 0 0 0]\n"
          ]
        }
      ]
    },
    {
      "cell_type": "code",
      "source": [
        "from sklearn.preprocessing import StandardScaler\n",
        "scaler = StandardScaler()\n",
        "\n",
        "x_tree_based = scaler.fit_transform(x_tree_based)"
      ],
      "metadata": {
        "id": "yITtq_yWTNxM"
      },
      "execution_count": null,
      "outputs": []
    },
    {
      "cell_type": "code",
      "source": [
        "len(x_tree_based)"
      ],
      "metadata": {
        "colab": {
          "base_uri": "https://localhost:8080/"
        },
        "id": "7hVl7Q9y4KqV",
        "outputId": "e5dd5052-d489-46c7-a3e0-5e09f021a0e4"
      },
      "execution_count": null,
      "outputs": [
        {
          "output_type": "execute_result",
          "data": {
            "text/plain": [
              "1571"
            ]
          },
          "metadata": {},
          "execution_count": 12
        }
      ]
    },
    {
      "cell_type": "code",
      "source": [
        "x_train_tree = x_tree_based[:1500]\n",
        "x_test_tree = x_tree_based[1500:]\n",
        "\n",
        "x_train_tree_result = x_tree_based[:1500]\n",
        "x_test_tree_result = x_tree_based[1500:]\n",
        "\n",
        "y_train_home_goals = y_home_goals[:1500]\n",
        "y_test_home_goals = y_home_goals[1500:]\n",
        "\n",
        "y_train_away_goals = y_away_goals[:1500]\n",
        "y_test_away_goals = y_away_goals[1500:]"
      ],
      "metadata": {
        "id": "ovJfHZqmTQXV"
      },
      "execution_count": null,
      "outputs": []
    },
    {
      "cell_type": "markdown",
      "source": [
        "## MODEL"
      ],
      "metadata": {
        "id": "Hd0Mg94LT797"
      }
    },
    {
      "cell_type": "code",
      "source": [
        "from sklearn.neural_network import MLPClassifier\n",
        "clf_home_goals = MLPClassifier(solver='lbfgs', alpha=1e-5,\n",
        "                   hidden_layer_sizes=(5, 7),  activation='relu', learning_rate='constant', \n",
        "                    learning_rate_init=0.001, power_t=0.5, max_iter=800)\n",
        "\n",
        "clf_away_goals = MLPClassifier(solver='lbfgs', alpha=1e-5,\n",
        "                   hidden_layer_sizes=(5, 7),  activation='relu', learning_rate='constant', \n",
        "                    learning_rate_init=0.001, power_t=0.5, max_iter=800)\n",
        "\n",
        "# classifier to learn home goals\n",
        "clf_home_goals.fit(x_train_tree,y_train_home_goals)\n",
        "\n",
        "# classifier to learn away goals\n",
        "clf_away_goals.fit(x_train_tree,y_train_away_goals)\n",
        "\n",
        "# predicting home goals\n",
        "NN_home_goals_train_prediction = clf_home_goals.predict(x_train_tree)\n",
        "NN_home_goals_test_prediction = clf_home_goals.predict(x_test_tree)\n",
        "\n",
        "# predicting away goals\n",
        "NN_away_goals_train_prediction = clf_away_goals.predict(x_train_tree)\n",
        "NN_away_goals_test_prediction = clf_away_goals.predict(x_test_tree)"
      ],
      "metadata": {
        "colab": {
          "base_uri": "https://localhost:8080/"
        },
        "id": "vbkDGzART7Nc",
        "outputId": "2cbdac91-672a-4fda-d9ce-3739e03638e7"
      },
      "execution_count": null,
      "outputs": [
        {
          "output_type": "stream",
          "name": "stderr",
          "text": [
            "/usr/local/lib/python3.8/dist-packages/sklearn/neural_network/_multilayer_perceptron.py:549: ConvergenceWarning: lbfgs failed to converge (status=1):\n",
            "STOP: TOTAL NO. of ITERATIONS REACHED LIMIT.\n",
            "\n",
            "Increase the number of iterations (max_iter) or scale the data as shown in:\n",
            "    https://scikit-learn.org/stable/modules/preprocessing.html\n",
            "  self.n_iter_ = _check_optimize_result(\"lbfgs\", opt_res, self.max_iter)\n",
            "/usr/local/lib/python3.8/dist-packages/sklearn/neural_network/_multilayer_perceptron.py:549: ConvergenceWarning: lbfgs failed to converge (status=1):\n",
            "STOP: TOTAL NO. of ITERATIONS REACHED LIMIT.\n",
            "\n",
            "Increase the number of iterations (max_iter) or scale the data as shown in:\n",
            "    https://scikit-learn.org/stable/modules/preprocessing.html\n",
            "  self.n_iter_ = _check_optimize_result(\"lbfgs\", opt_res, self.max_iter)\n"
          ]
        }
      ]
    },
    {
      "cell_type": "code",
      "source": [
        "print(len(NN_home_goals_train_prediction),len(NN_away_goals_train_prediction))"
      ],
      "metadata": {
        "colab": {
          "base_uri": "https://localhost:8080/"
        },
        "id": "ncwGXS_bGkRg",
        "outputId": "29dca3a9-54cd-43ea-88d4-9670427b9fab"
      },
      "execution_count": null,
      "outputs": [
        {
          "output_type": "stream",
          "name": "stdout",
          "text": [
            "1500 1500\n"
          ]
        }
      ]
    },
    {
      "cell_type": "markdown",
      "source": [
        "### creating results from predicted data of home goals vs away goals from Neural netwrok"
      ],
      "metadata": {
        "id": "59nGviaIHuXY"
      }
    },
    {
      "cell_type": "code",
      "source": [
        "# results predicted for training result\n",
        "NN_train_result_prediciton_wrtHome = []\n",
        "for i in range(len(NN_home_goals_train_prediction)):\n",
        "  if NN_home_goals_train_prediction[i] - NN_away_goals_train_prediction[i] > 0:\n",
        "    NN_train_result_prediciton_wrtHome.append(2)\n",
        "\n",
        "  if NN_home_goals_train_prediction[i] - NN_away_goals_train_prediction[i] ==  0:\n",
        "    NN_train_result_prediciton_wrtHome.append(1)\n",
        "    \n",
        "  if NN_home_goals_train_prediction[i] - NN_away_goals_train_prediction[i] < 0:\n",
        "    NN_train_result_prediciton_wrtHome.append(0)\n",
        "\n",
        "NN_train_result_prediciton_wrtHome = np.array(NN_train_result_prediciton_wrtHome)\n",
        "\n",
        "# results predicted for test data result\n",
        "\n",
        "NN_test_result_prediciton_wrtHome = []\n",
        "for i in range(len(NN_home_goals_test_prediction)):\n",
        "  if NN_home_goals_test_prediction[i] - NN_away_goals_test_prediction[i] > 0:\n",
        "    NN_test_result_prediciton_wrtHome.append(2)\n",
        "\n",
        "  if NN_home_goals_test_prediction[i] - NN_away_goals_test_prediction[i] == 0:\n",
        "    NN_test_result_prediciton_wrtHome.append(1)\n",
        "    \n",
        "  if NN_home_goals_test_prediction[i] - NN_away_goals_test_prediction[i] < 0:\n",
        "    NN_test_result_prediciton_wrtHome.append(0)\n",
        "\n",
        "NN_test_result_prediciton_wrtHome = np.array(NN_test_result_prediciton_wrtHome)"
      ],
      "metadata": {
        "id": "y7jT7sBMaWJE"
      },
      "execution_count": null,
      "outputs": []
    },
    {
      "cell_type": "code",
      "source": [
        "print(NN_home_goals_train_prediction,NN_away_goals_train_prediction)"
      ],
      "metadata": {
        "colab": {
          "base_uri": "https://localhost:8080/"
        },
        "id": "5m44Xe00arIs",
        "outputId": "817ea775-d8a3-4d9f-ff32-0c85be41f471"
      },
      "execution_count": null,
      "outputs": [
        {
          "output_type": "stream",
          "name": "stdout",
          "text": [
            "[1 1 1 ... 1 1 1] [1 2 0 ... 0 0 1]\n"
          ]
        }
      ]
    },
    {
      "cell_type": "markdown",
      "source": [
        "## creating array for actual results"
      ],
      "metadata": {
        "id": "nbtn1RVicH2l"
      }
    },
    {
      "cell_type": "code",
      "source": [
        "actual_results_for_train_Data = df1['home_result_list'][:1500].replace(['W', 'D', 'L'],[2, 1,0], inplace=False)\n",
        "actual_results_for_test_Data = df1['home_result_list'][1500:].replace(['W', 'D', 'L'],[2, 1,0], inplace=False)"
      ],
      "metadata": {
        "id": "fV3h8dw0HL36"
      },
      "execution_count": null,
      "outputs": []
    },
    {
      "cell_type": "code",
      "source": [
        "actual_results_for_train_Data = actual_results_for_train_Data.to_numpy()\n",
        "actual_results_for_test_Data = actual_results_for_test_Data.to_numpy()"
      ],
      "metadata": {
        "id": "9SyUrQBSKE16"
      },
      "execution_count": null,
      "outputs": []
    },
    {
      "cell_type": "markdown",
      "source": [
        "## METRICS"
      ],
      "metadata": {
        "id": "dbB6RCv_cPIe"
      }
    },
    {
      "cell_type": "code",
      "source": [
        "from sklearn.metrics import accuracy_score\n",
        "print(\"training results accuracy: \" + str(accuracy_score(actual_results_for_train_Data, NN_train_result_prediciton_wrtHome)))\n",
        "      \n",
        "print(\"test data results accuracy: \" + str(accuracy_score(actual_results_for_test_Data, NN_test_result_prediciton_wrtHome)))"
      ],
      "metadata": {
        "colab": {
          "base_uri": "https://localhost:8080/"
        },
        "outputId": "fabc5cf9-c91e-48de-ad79-fbaa9e09678f",
        "id": "jj2uDPxMHKDJ"
      },
      "execution_count": null,
      "outputs": [
        {
          "output_type": "stream",
          "name": "stdout",
          "text": [
            "training results accuracy: 0.4653333333333333\n",
            "test data results accuracy: 0.36619718309859156\n"
          ]
        }
      ]
    },
    {
      "cell_type": "code",
      "source": [
        "from sklearn.metrics import classification_report\n",
        "\n",
        "print(classification_report(actual_results_for_test_Data, NN_test_result_prediciton_wrtHome))"
      ],
      "metadata": {
        "colab": {
          "base_uri": "https://localhost:8080/"
        },
        "outputId": "dd20e8a6-4f89-4e7c-91c5-65b37617ebb6",
        "id": "TRAZkNBpHKDK"
      },
      "execution_count": null,
      "outputs": [
        {
          "output_type": "stream",
          "name": "stdout",
          "text": [
            "              precision    recall  f1-score   support\n",
            "\n",
            "           0       0.38      0.17      0.24        29\n",
            "           1       0.19      0.23      0.21        13\n",
            "           2       0.43      0.62      0.51        29\n",
            "\n",
            "    accuracy                           0.37        71\n",
            "   macro avg       0.33      0.34      0.32        71\n",
            "weighted avg       0.37      0.37      0.34        71\n",
            "\n"
          ]
        }
      ]
    },
    {
      "cell_type": "code",
      "source": [
        "print(actual_results_for_test_Data)\n",
        "print(NN_test_result_prediciton_wrtHome)"
      ],
      "metadata": {
        "colab": {
          "base_uri": "https://localhost:8080/"
        },
        "id": "DryslgJ-4Y_W",
        "outputId": "8137f6ef-56c9-4bf9-e663-eaf47bbeb860"
      },
      "execution_count": null,
      "outputs": [
        {
          "output_type": "stream",
          "name": "stdout",
          "text": [
            "[1 1 2 1 1 1 2 0 0 1 0 2 2 0 0 0 2 0 2 2 0 1 0 0 0 2 2 0 0 2 0 0 0 0 2 2 2\n",
            " 0 2 0 1 2 0 2 0 1 0 2 2 0 0 0 2 0 2 2 2 2 0 2 0 1 2 2 2 1 1 0 2 2 1]\n",
            "[2 0 2 1 2 1 2 1 0 2 2 2 2 0 1 2 0 2 2 1 2 1 2 2 0 2 1 2 1 2 2 2 2 0 1 2 2\n",
            " 1 2 2 0 2 2 2 2 2 0 0 0 2 1 1 2 1 2 2 1 0 2 2 2 2 0 1 2 2 0 2 2 1 2]\n"
          ]
        }
      ]
    },
    {
      "cell_type": "markdown",
      "source": [
        "## personal metric (how far off is every perdiction of each instance of goals perdicted vs goals actually scored)"
      ],
      "metadata": {
        "id": "zHmcppnNoqgP"
      }
    },
    {
      "cell_type": "markdown",
      "source": [
        "### this metric shows in some way on avg how far away was your predictions...ideally i would like it to be less than1 1..that is less than 1 goal error in predictions on average"
      ],
      "metadata": {
        "id": "yghG_94nKgNz"
      }
    },
    {
      "cell_type": "code",
      "source": [
        "def goal_error(actual_arr,pred_arr):\n",
        "  sumError = 0\n",
        "  for i in range(len(actual_arr)):\n",
        "    sumError += (actual_arr[i]-pred_arr[i])**2\n",
        "  \n",
        "  return sumError/len(actual_arr)"
      ],
      "metadata": {
        "id": "fgys2BO4o2Od"
      },
      "execution_count": null,
      "outputs": []
    },
    {
      "cell_type": "markdown",
      "source": [
        "### for home goals"
      ],
      "metadata": {
        "id": "cqpz-lnMnJLa"
      }
    },
    {
      "cell_type": "code",
      "source": [
        "print(\"train data error: \" + str(goal_error(y_train_home_goals, NN_home_goals_train_prediction)))\n",
        "print(\"test data error: \" + str(goal_error(y_test_home_goals, NN_home_goals_test_prediction)))"
      ],
      "metadata": {
        "colab": {
          "base_uri": "https://localhost:8080/"
        },
        "id": "Isud7O_qpiv9",
        "outputId": "45825f81-d67d-4906-b63e-e39fcb30b681"
      },
      "execution_count": null,
      "outputs": [
        {
          "output_type": "stream",
          "name": "stdout",
          "text": [
            "train data error: 1.7706666666666666\n",
            "test data error: 1.5633802816901408\n"
          ]
        }
      ]
    },
    {
      "cell_type": "markdown",
      "source": [
        "### for away goals"
      ],
      "metadata": {
        "id": "qhJ-d8LGnK9S"
      }
    },
    {
      "cell_type": "code",
      "source": [
        "print(\"train data error: \" + str(goal_error(y_train_away_goals, NN_away_goals_train_prediction)))\n",
        "print(\"test data error: \" + str(goal_error(y_test_away_goals, NN_away_goals_test_prediction)))"
      ],
      "metadata": {
        "colab": {
          "base_uri": "https://localhost:8080/"
        },
        "id": "QQx1SfJMnMlZ",
        "outputId": "1d361987-a877-440f-dff2-c20a9728c94a"
      },
      "execution_count": null,
      "outputs": [
        {
          "output_type": "stream",
          "name": "stdout",
          "text": [
            "train data error: 1.7626666666666666\n",
            "test data error: 3.408450704225352\n"
          ]
        }
      ]
    },
    {
      "cell_type": "markdown",
      "source": [],
      "metadata": {
        "id": "gPoh5OYdKdib"
      }
    },
    {
      "cell_type": "code",
      "source": [],
      "metadata": {
        "id": "S3M8i0-Knvkz"
      },
      "execution_count": null,
      "outputs": []
    }
  ]
}